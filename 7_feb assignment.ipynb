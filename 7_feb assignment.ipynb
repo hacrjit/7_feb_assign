{
 "cells": [
  {
   "cell_type": "markdown",
   "id": "004e6f6d",
   "metadata": {},
   "source": [
    "### Q1. You are writing code for a company. The requirement of the company is that you create a python function that will check whether the password entered by the user is correct or not. The function should take the password as input and return the string “Valid Password” if the entered password follows the below-given password guidelines else it should return “Invalid Password”.\n",
    "\n",
    "### Note:\n",
    "### 1. The Password should contain at least two uppercase letters and at least two lowercase letters.\n",
    "### 2. The Password should contain at least a number and three special characters.\n",
    "### 3. The length of the password should be 10 characters long."
   ]
  },
  {
   "cell_type": "code",
   "execution_count": 82,
   "id": "714bac28",
   "metadata": {},
   "outputs": [],
   "source": [
    "def pass_check():\n",
    "    password = input(\"Please enter a strong Password: \")\n",
    "    number = False\n",
    "    upr_count = 0\n",
    "    lwr_count = 0\n",
    "    special_count = 0\n",
    "    for i in password:\n",
    "        if i.isupper():\n",
    "            upr_count += 1\n",
    "        elif i.islower():\n",
    "            lwr_count += 1\n",
    "        elif i.isdigit():\n",
    "            number = True\n",
    "        else:\n",
    "            special_count += 1\n",
    "        if lwr_count >= 2 and upr_count >= 2 and special_count >= 3 and number and len(password) == 10:\n",
    "            return \"Valid Password\"\n",
    "    return 'Invalid Password'\n"
   ]
  },
  {
   "cell_type": "code",
   "execution_count": 83,
   "id": "17055fbd",
   "metadata": {},
   "outputs": [
    {
     "name": "stdout",
     "output_type": "stream",
     "text": [
      "Please enter a strong Password: 47+497+eh776\n"
     ]
    },
    {
     "data": {
      "text/plain": [
       "'Invalid Password'"
      ]
     },
     "execution_count": 83,
     "metadata": {},
     "output_type": "execute_result"
    }
   ],
   "source": [
    "pass_check()"
   ]
  },
  {
   "cell_type": "markdown",
   "id": "3cd75f02",
   "metadata": {},
   "source": [
    "### Q2. Solve the below-given questions using at least one of the following:\n",
    "### 1. Lambda function\n",
    "### 2. Filter function\n",
    "### 3. Map function\n",
    "### 4. List Comprehension"
   ]
  },
  {
   "cell_type": "markdown",
   "id": "f6395da4",
   "metadata": {},
   "source": [
    "#### -- Check if the string starts with a particular letter"
   ]
  },
  {
   "cell_type": "code",
   "execution_count": 87,
   "id": "4677b9f0",
   "metadata": {},
   "outputs": [
    {
     "data": {
      "text/plain": [
       "['atbocg0', 'atfit']"
      ]
     },
     "execution_count": 87,
     "metadata": {},
     "output_type": "execute_result"
    }
   ],
   "source": [
    "# starts with a \n",
    "strings = [\"atbocg0\",\"yrfxy\",\"rfsggh\",\"atfit\"]\n",
    "[x for x in strings if x[0] == \"a\"]"
   ]
  },
  {
   "cell_type": "markdown",
   "id": "920aafaa",
   "metadata": {},
   "source": [
    "#### -- Check if the string is numeric"
   ]
  },
  {
   "cell_type": "code",
   "execution_count": 91,
   "id": "e0847d3d",
   "metadata": {},
   "outputs": [
    {
     "data": {
      "text/plain": [
       "['9784', '879', '0']"
      ]
     },
     "execution_count": 91,
     "metadata": {},
     "output_type": "execute_result"
    }
   ],
   "source": [
    "items = [\"cftcd\",\"9784\",\"tg7d8d\",\"879\",\"0\"]\n",
    "[x for x in items if x.isnumeric()]"
   ]
  },
  {
   "cell_type": "markdown",
   "id": "a1790c7e",
   "metadata": {},
   "source": [
    "#### -- Sort a list of tuples having fruit names and their quantity. [(\"mango\",99),(\"orange\",80), (\"grapes\", 1000)]"
   ]
  },
  {
   "cell_type": "code",
   "execution_count": 92,
   "id": "051e769c",
   "metadata": {},
   "outputs": [
    {
     "data": {
      "text/plain": [
       "[('grapes', 1000), ('mango', 99), ('orange', 80)]"
      ]
     },
     "execution_count": 92,
     "metadata": {},
     "output_type": "execute_result"
    }
   ],
   "source": [
    "sorted([(\"mango\",99),(\"orange\",80), (\"grapes\", 1000)])"
   ]
  },
  {
   "cell_type": "markdown",
   "id": "8d7a87ba",
   "metadata": {},
   "source": [
    "#### -- Find the squares of numbers from 1 to 10."
   ]
  },
  {
   "cell_type": "code",
   "execution_count": null,
   "id": "7eecd5f8",
   "metadata": {},
   "outputs": [],
   "source": [
    "list(map(lambda x:x**2, range(1,11)))"
   ]
  },
  {
   "cell_type": "markdown",
   "id": "1ba34b69",
   "metadata": {},
   "source": [
    "#### -- Find the cube root of numbers from 1 to 10"
   ]
  },
  {
   "cell_type": "code",
   "execution_count": null,
   "id": "418c4490",
   "metadata": {},
   "outputs": [],
   "source": [
    "list(map(lambda x:x**3, range(1,11)))"
   ]
  },
  {
   "cell_type": "markdown",
   "id": "452f7a5a",
   "metadata": {},
   "source": [
    "#### -- Check if a given number is even"
   ]
  },
  {
   "cell_type": "code",
   "execution_count": null,
   "id": "752f2605",
   "metadata": {},
   "outputs": [],
   "source": [
    "def even(n):\n",
    "    if n % 2 == 0:\n",
    "        return n\n",
    "list(filter(even,[4,5,7,8,9,4,5,6,748]))"
   ]
  },
  {
   "cell_type": "markdown",
   "id": "ecc5bb3d",
   "metadata": {},
   "source": [
    "#### --  Filter odd numbers from the given list.\n",
    "#### [1,2,3,4,5,6,7,8,9,10]"
   ]
  },
  {
   "cell_type": "code",
   "execution_count": null,
   "id": "1bdfa1e5",
   "metadata": {},
   "outputs": [],
   "source": [
    "[x for x in [1,2,3,4,5,6,7,8,9,10] if x % 2 != 0]"
   ]
  },
  {
   "cell_type": "markdown",
   "id": "67293943",
   "metadata": {},
   "source": [
    "#### -- Sort a list of integers into positive and negative integers lists.\n",
    "#### [1,2,3,4,5,6,-1,-2,-3,-4,-5,0]"
   ]
  },
  {
   "cell_type": "code",
   "execution_count": null,
   "id": "03009039",
   "metadata": {},
   "outputs": [],
   "source": [
    "list = [1,2,3,4,5,6,-1,-2,-3,-4,-5,0]\n",
    "positive = [x for x in list if x >= 0]\n",
    "negative = [x for x in list if x < 0]\n",
    "positive,negative"
   ]
  }
 ],
 "metadata": {
  "kernelspec": {
   "display_name": "Python 3 (ipykernel)",
   "language": "python",
   "name": "python3"
  },
  "language_info": {
   "codemirror_mode": {
    "name": "ipython",
    "version": 3
   },
   "file_extension": ".py",
   "mimetype": "text/x-python",
   "name": "python",
   "nbconvert_exporter": "python",
   "pygments_lexer": "ipython3",
   "version": "3.9.7"
  }
 },
 "nbformat": 4,
 "nbformat_minor": 5
}
